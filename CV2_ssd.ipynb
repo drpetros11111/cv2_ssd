{
  "nbformat": 4,
  "nbformat_minor": 0,
  "metadata": {
    "colab": {
      "provenance": [],
      "authorship_tag": "ABX9TyOaralT95xIqmTEP95RPJBo",
      "include_colab_link": true
    },
    "kernelspec": {
      "name": "python3",
      "display_name": "Python 3"
    },
    "language_info": {
      "name": "python"
    }
  },
  "cells": [
    {
      "cell_type": "markdown",
      "metadata": {
        "id": "view-in-github",
        "colab_type": "text"
      },
      "source": [
        "<a href=\"https://colab.research.google.com/github/drpetros11111/cv2_ssd/blob/main/CV2_ssd.ipynb\" target=\"_parent\"><img src=\"https://colab.research.google.com/assets/colab-badge.svg\" alt=\"Open In Colab\"/></a>"
      ]
    },
    {
      "cell_type": "markdown",
      "source": [
        "# Import the Libraries"
      ],
      "metadata": {
        "id": "0HuO96ZKQJ5E"
      }
    },
    {
      "cell_type": "code",
      "source": [
        "import torch\n",
        "from torch.autograd import Variable\n",
        "import cv2\n",
        "from data import BaseTransform, VOC_CLASSES as labelmap\n",
        "from ssd import build_ssd\n",
        "import imageio"
      ],
      "metadata": {
        "id": "0gZzS2rkQ3B4"
      },
      "execution_count": null,
      "outputs": []
    },
    {
      "cell_type": "markdown",
      "source": [
        "# Define the Detection Function"
      ],
      "metadata": {
        "id": "6xWzI6UfQqej"
      }
    },
    {
      "cell_type": "code",
      "source": [
        "def detect(frame, net, transform):\n",
        "    height, width = frame.shape[:2]\n",
        "    frame_t = transform(frame)[0]\n",
        "    x = torch.from_numpy(frame_t).permute(2, 0, 1)\n",
        "    x = Variable(x.unsqueeze(0))\n",
        "    y = net(x)\n",
        "    detections = y.data\n",
        "    scale = torch.Tensor([width, height, width, height])\n",
        "    # detections = [batch, number of classes, number of occurence, (score, x0, Y0, x1, y1)]\n",
        "    for i in range(detections.size(1)):\n",
        "        j = 0\n",
        "        while detections[0, i, j, 0] >= 0.6:\n",
        "            pt = (detections[0, i, j, 1:] * scale).numpy()\n",
        "            cv2.rectangle(frame, (int(pt[0]), int(pt[1])), (int(pt[2]), int(pt[3])), (255, 0, 0), 2\n",
        "            cv2.putText{frame, labelmap[i-1], (int(pt[0], int(pt[1]), cv2.FONT_HERSHEY_SINPLEX, 2 (255))}\n",
        "             J += 1\n",
        "      return frame"
      ],
      "metadata": {
        "id": "B5beR8R9RoX6"
      },
      "execution_count": null,
      "outputs": []
    },
    {
      "cell_type": "markdown",
      "source": [
        "#Creating the SSD neural network"
      ],
      "metadata": {
        "id": "r4IKnNFtU3F9"
      }
    },
    {
      "cell_type": "code",
      "source": [
        "net = build_ssd('test')\n",
        "net.load_state_dict(torch.load('ssd300_mAP_77.43_v2.pth', map_location = lambda storage, loc: storage))"
      ],
      "metadata": {
        "id": "nuW8_lvTVA9B"
      },
      "execution_count": null,
      "outputs": []
    },
    {
      "cell_type": "markdown",
      "source": [],
      "metadata": {
        "id": "3daOMKQ2VcZP"
      }
    }
  ]
}