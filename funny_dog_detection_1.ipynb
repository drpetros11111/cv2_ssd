{
  "nbformat": 4,
  "nbformat_minor": 0,
  "metadata": {
    "colab": {
      "provenance": [],
      "authorship_tag": "ABX9TyOh4ONF3hRF1/iRyKXLA/hT",
      "include_colab_link": true
    },
    "kernelspec": {
      "name": "python3",
      "display_name": "Python 3"
    },
    "language_info": {
      "name": "python"
    }
  },
  "cells": [
    {
      "cell_type": "markdown",
      "metadata": {
        "id": "view-in-github",
        "colab_type": "text"
      },
      "source": [
        "<a href=\"https://colab.research.google.com/github/drpetros11111/cv2_ssd/blob/main/funny_dog_detection_1.ipynb\" target=\"_parent\"><img src=\"https://colab.research.google.com/assets/colab-badge.svg\" alt=\"Open In Colab\"/></a>"
      ]
    },
    {
      "source": [
        "# Importing the libraries\n",
        "import torch\n",
        "from torch.autograd import Variable\n",
        "import cv2\n",
        "from data import BaseTransform, VOC_CLASSES as labelmap\n",
        "from ssd import build_ssd\n",
        "import imageio"
      ],
      "cell_type": "code",
      "metadata": {
        "id": "uNVewr3sGMnj"
      },
      "execution_count": null,
      "outputs": []
    },
    {
      "cell_type": "markdown",
      "source": [
        "# Importing the libraries\n",
        "import torch from torch.autograd import Variable import cv2 from data import BaseTransform, VOC_CLASSES as labelmap from ssd import build_ssd import imageio\n",
        "\n",
        "---\n",
        "---\n",
        "\n",
        "\n",
        "Okay, let's break down this code snippet line by line:\n",
        "\n",
        "##import torch:\n",
        "This line imports the PyTorch library, which is a popular deep learning framework.\n",
        "\n",
        "It provides tools for building and training neural networks.\n",
        "\n",
        "\n",
        "---\n",
        "\n",
        "\n",
        "##from torch.autograd import Variable:\n",
        "This line imports the Variable class from the torch.autograd module.\n",
        "\n",
        "In older versions of PyTorch, Variable was used to wrap tensors for automatic differentiation.\n",
        "\n",
        "However, in newer versions, tensors are automatically differentiable, so this line might not be necessary depending on the PyTorch version being used.\n",
        "\n",
        "---\n",
        "#import cv2:\n",
        "This line imports the OpenCV (cv2) library, which is a powerful computer vision library used for image and video processing.\n",
        "\n",
        "It provides functions for tasks like reading and writing images, object detection, and image manipulation.\n",
        "\n",
        "-------\n",
        "##from data import BaseTransform, VOC_CLASSES as labelmap:\n",
        "This line imports two objects from a custom module named data.\n",
        "\n",
        "BaseTransform is likely a class or function that defines a transformation to be applied to images, such as resizing or normalization.\n",
        "\n",
        "VOC_CLASSES is a list or dictionary containing the names of the object classes used in the Pascal VOC dataset, a popular dataset for object detection.\n",
        "\n",
        "It is imported and renamed as labelmap for easier use in the code.\n",
        "\n",
        "----------\n",
        "from ssd import build_ssd: This line imports the build_ssd function from a custom module named ssd. This function is likely responsible for creating the SSD (Single Shot MultiBox Detector) neural network architecture used for object detection.\n",
        "\n",
        "import imageio: This line imports the imageio library, which is used for reading and writing various image and video formats. It is used in the code to read the input video and write the output video with the detected objects.\n",
        "\n",
        "In summary, this snippet imports the necessary libraries and modules for object detection using the SSD architecture. It includes PyTorch for deep learning, OpenCV for computer vision, custom modules for data transformation and network building, and imageio for handling video files."
      ],
      "metadata": {
        "id": "pGFahMm5GbzN"
      }
    },
    {
      "source": [
        "# Defining a function that will do the detections\n",
        "def detect(frame, net, transform):\n",
        "    height, width = frame.shape[:2]\n",
        "    frame_t = transform(frame)[0]\n",
        "    x = torch.from_numpy(frame_t).permute(2, 0, 1)\n",
        "    x = Variable(x.unsqueeze(0))\n",
        "    y = net(x)\n",
        "    detections = y.data\n",
        "    scale = torch.Tensor([width, height, width, height])\n",
        "    # detections = [batch, number of classes, number of occurence, (score, x0, Y0, x1, y1)]\n",
        "    for i in range(detections.size(1)):\n",
        "        j = 0\n",
        "        while detections[0, i, j, 0] >= 0.6:\n",
        "            pt = (detections[0, i, j, 1:] * scale).numpy()\n",
        "            cv2.rectangle(frame, (int(pt[0]), int(pt[1])), (int(pt[2]), int(pt[3])), (255, 0, 0), 2)\n",
        "            cv2.putText(frame, labelmap[i - 1], (int(pt[0]), int(pt[1])), cv2.FONT_HERSHEY_SIMPLEX, 2, (255, 255, 255), 2, cv2.LINE_AA)\n",
        "            j += 1\n",
        "    return frame"
      ],
      "cell_type": "code",
      "metadata": {
        "id": "AL99VZ4TGOLn"
      },
      "execution_count": null,
      "outputs": []
    },
    {
      "source": [
        "# Creating the SSD neural network\n",
        "net = build_ssd('test')\n",
        "net.load_state_dict(torch.load('ssd300_mAP_77.43_v2.pth', map_location = lambda storage, loc: storage))"
      ],
      "cell_type": "code",
      "metadata": {
        "id": "ii4MbiEQGQtX"
      },
      "execution_count": null,
      "outputs": []
    },
    {
      "source": [
        "# Creating the transformation\n",
        "transform = BaseTransform(net.size, (104/256.0, 117/256.0, 123/256.0))"
      ],
      "cell_type": "code",
      "metadata": {
        "id": "B12fz1ZGGR4w"
      },
      "execution_count": null,
      "outputs": []
    },
    {
      "source": [
        "# Doing some Object Detection on a video\n",
        "reader = imageio.get_reader('funny_dog.mp4')\n",
        "fps = reader.get_meta_data()['fps']\n",
        "writer = imageio.get_writer('output.mp4', fps = fps)\n",
        "for i, frame in enumerate(reader):\n",
        "    frame = detect(frame, net.eval(), transform)\n",
        "    writer.append_data(frame)\n",
        "    print(i)\n",
        "writer.close()"
      ],
      "cell_type": "code",
      "metadata": {
        "id": "vXlUnfHdGS3y"
      },
      "execution_count": null,
      "outputs": []
    }
  ]
}